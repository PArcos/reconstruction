{
 "cells": [
  {
   "cell_type": "markdown",
   "metadata": {},
   "source": [
    "# Visual odometry\n",
    "We can try to create a visual odometry part using feature matching and tracking between consecutive frames.\n",
    "We use modified SIFT with RootSIFT to get the feature descriptors and KLT Tracker to get the odometry."
   ]
  },
  {
   "cell_type": "code",
   "execution_count": 1,
   "metadata": {},
   "outputs": [
    {
     "data": {
      "application/vnd.jupyter.widget-view+json": {
       "model_id": "b73f48cfcb2a4307bf2cc00147545424",
       "version_major": 2,
       "version_minor": 0
      },
      "text/plain": [
       "interactive(children=(IntRangeSlider(value=(53, 56), description='frames', max=194), Output()), _dom_classes=(…"
      ]
     },
     "metadata": {},
     "output_type": "display_data"
    }
   ],
   "source": [
    "import cv2\n",
    "import numpy as np\n",
    "from reconstruction.dataset import Dataset\n",
    "from reconstruction.image_matcher import ImageMatcher\n",
    "from reconstruction.config import Config\n",
    "import ipyplot\n",
    "from matplotlib import pyplot as plt\n",
    "import ipywidgets as widgets\n",
    "from IPython.display import display, Markdown\n",
    "\n",
    "dataset = Dataset.read(\"data/3d-scans-cap-black-glossy-ha-2019-02-27T16_06_29\")\n",
    "matcher = ImageMatcher(None)\n",
    "\n",
    "@widgets.interact(frames=widgets.IntRangeSlider(min=0, max=len(dataset.frames) - 1, value=[53, 56]))\n",
    "def draw_matches(frames):\n",
    "    source_img = cv2.imread(dataset.frames[frames[0]].color_file)\n",
    "    target_img = cv2.imread(dataset.frames[frames[1]].color_file)\n",
    "\n",
    "    source_keypoints, source_descriptors = matcher.detect_keypoints(source_img)\n",
    "    target_keypoints, target_descriptors = matcher.detect_keypoints(target_img) \n",
    "\n",
    "    source_img_keypoints = cv2.drawKeypoints(source_img, source_keypoints, None)\n",
    "    target_img_keypoints = cv2.drawKeypoints(target_img, target_keypoints, None)\n",
    "    ipyplot.plot_images([source_img_keypoints, target_img_keypoints], img_width=300)\n",
    "\n",
    "    FLANN_INDEX_KDTREE = 1\n",
    "    index_params = dict(algorithm=FLANN_INDEX_KDTREE, trees=5)\n",
    "    search_params = dict(checks=50)\n",
    "    flann = cv2.FlannBasedMatcher(index_params, search_params)\n",
    "    matches = flann.knnMatch(source_descriptors, target_descriptors, k=2)\n",
    "\n",
    "    good = []\n",
    "    for m, n in matches:\n",
    "        if m.distance < 0.7 * n.distance:\n",
    "            good.append(m)\n",
    "\n",
    "    src_pts = np.float32([source_keypoints[m.queryIdx].pt for m in good]).reshape(-1, 1, 2)\n",
    "    dst_pts = np.float32([target_keypoints[m.trainIdx].pt for m in good]).reshape(-1, 1, 2)\n",
    "    if len(dst_pts) < 4:\n",
    "        display(Markdown(\"**Not enough matches to find homography**\"))\n",
    "        return \n",
    "\n",
    "    M, mask = cv2.findHomography(src_pts, dst_pts, cv2.RANSAC, 5.0)\n",
    "\n",
    "    matchesMask = mask.ravel().tolist()\n",
    "    h, w = source_img.shape[:2]\n",
    "    pts = np.float32([[0, 0], [0, h - 1], [w - 1, h - 1], [w - 1, 0]]).reshape(-1, 1, 2)\n",
    "    dst = cv2.perspectiveTransform(pts, M)\n",
    "    target_img_keypoints = cv2.polylines(target_img_keypoints, [np.int32(dst)], True, 255, 3, cv2.LINE_AA)\n",
    "\n",
    "    draw_params = dict(matchColor = (0,255,0), # draw matches in green color\n",
    "                    singlePointColor = None,\n",
    "                    matchesMask = matchesMask, # draw only inliers\n",
    "                    flags = 2)\n",
    "\n",
    "    img_with_matches = cv2.drawMatches(source_img, source_keypoints, target_img, target_keypoints, good, None, **draw_params)\n",
    "    plt.figure(figsize=(100,100))\n",
    "    plt.imshow(img_with_matches)\n",
    "    plt.axis(False)\n",
    "    plt.show()"
   ]
  }
 ],
 "metadata": {
  "interpreter": {
   "hash": "0a54084e6b208ee8d1ce3989ffc20924477a5f55f5a43e22e699a6741623861e"
  },
  "kernelspec": {
   "display_name": "Python 3.7.8 64-bit",
   "language": "python",
   "name": "python3"
  },
  "language_info": {
   "codemirror_mode": {
    "name": "ipython",
    "version": 3
   },
   "file_extension": ".py",
   "mimetype": "text/x-python",
   "name": "python",
   "nbconvert_exporter": "python",
   "pygments_lexer": "ipython3",
   "version": "3.7.8"
  },
  "orig_nbformat": 4
 },
 "nbformat": 4,
 "nbformat_minor": 2
}
